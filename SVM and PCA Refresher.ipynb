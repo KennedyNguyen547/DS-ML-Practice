{
 "cells": [
  {
   "cell_type": "markdown",
   "metadata": {},
   "source": [
    "\n",
    "\n",
    "# This notebook was done as a refresher on using Support Vector Machine (SVM) classifiers and using the Principal Component Analysis.\n",
    "\n",
    "## The data used was given from my advanced machine learning class. About 400 grayscale JPG images that are 64x64 pixels with 40 classes. The csv that came with the images contained the labels for each image.\n",
    "\n"
   ]
  },
  {
   "cell_type": "code",
   "execution_count": 1,
   "metadata": {},
   "outputs": [],
   "source": [
    "\n",
    "import cv2\n",
    "import matplotlib.pyplot as plt\n",
    "import numpy as np\n",
    "import pandas as pd\n",
    "import time\n",
    "from sklearn.decomposition  import  PCA\n",
    "from sklearn import svm\n",
    "from sklearn.metrics import accuracy_score\n",
    "from sklearn import metrics\n",
    "from sklearn.model_selection import train_test_split\n",
    "from sklearn.metrics import confusion_matrix\n",
    "from sklearn import preprocessing\n"
   ]
  },
  {
   "cell_type": "code",
   "execution_count": 2,
   "metadata": {},
   "outputs": [],
   "source": [
    "\n",
    "# folder path to the image data used for this keras neural network\n",
    "# there are 400 images, with 40 unique individuals\n",
    "folder_path = r\"C:\\Users\\KennoHead\\Desktop\\Data Science and Machine Learning Refresher\\Face\\\\\"\n",
    "\n",
    "# processing the image data before using it for the keras neural network\n",
    "# each face image is 64 x 64 pixels, all in JPG files and in grayscale\n",
    "pixel_matrix = []\n",
    "\n",
    "for i in range (0, 400, 1):\n",
    "    \n",
    "    current_image_data = cv2.imread(folder_path + str(i) + \".jpg\", 0)\n",
    "    pixel_matrix.append(current_image_data.flatten())\n",
    "\n",
    "# reading the csv file that contains the labels for the images\n",
    "# and merging the pixel data with the labels\n",
    "pixels_labels = pd.read_csv(r\"C:\\Users\\KennoHead\\Desktop\\Data Science and Machine Learning Refresher\\Face\\label.csv\")\n",
    "pixels_df = pd.DataFrame(pixel_matrix)\n",
    "pixels_df = pd.concat([pixels_df, pixels_labels], axis = 1)\n"
   ]
  },
  {
   "cell_type": "code",
   "execution_count": 3,
   "metadata": {},
   "outputs": [],
   "source": [
    "\n",
    "# setting up the training and testing sets\n",
    "pixels_features_cols = list(pixels_df.columns)\n",
    "pixels_features_cols.remove('Label')\n",
    "\n",
    "pixels_features = pixels_df[pixels_features_cols]\n",
    "pixels_labels = pixels_df['Label']\n",
    "\n",
    "# the features should be scaled, the range of values on the pixels (0-255) would affect\n",
    "# the pca method\n",
    "pixels_features_scaled = preprocessing.scale(pixels_features)\n",
    "features_training, features_testing, labels_training, labels_testing = train_test_split(pixels_features_scaled, pixels_labels, test_size = .3, random_state = 0)\n"
   ]
  },
  {
   "cell_type": "code",
   "execution_count": 4,
   "metadata": {},
   "outputs": [
    {
     "name": "stdout",
     "output_type": "stream",
     "text": [
      "Process done!\n"
     ]
    }
   ],
   "source": [
    "\n",
    "# k was picked to be 35 components in this case\n",
    "\n",
    "k = 35\n",
    "faces_PCA = PCA(n_components = k)\n",
    "\n",
    "# PCA should be applied to both the training and testing sets of the features \n",
    "features_training_pca = faces_PCA.fit_transform(features_training)\n",
    "features_testing_pca = faces_PCA.transform(features_testing)\n",
    "\n",
    "print('Process done!')"
   ]
  },
  {
   "cell_type": "code",
   "execution_count": 5,
   "metadata": {},
   "outputs": [
    {
     "name": "stdout",
     "output_type": "stream",
     "text": [
      "0.9\n",
      "[[0 0 0 ... 0 0 0]\n",
      " [0 3 0 ... 0 0 0]\n",
      " [0 0 3 ... 0 0 0]\n",
      " ...\n",
      " [0 0 0 ... 3 0 0]\n",
      " [0 0 0 ... 0 4 0]\n",
      " [1 0 0 ... 0 0 1]]\n"
     ]
    }
   ],
   "source": [
    "\n",
    "# C is ratio to allow \"bad\" values within classes/ or the misclassification of samples\n",
    "# higher C values allow low bias and high variance, leading to overfitting\n",
    "# vice versa, lower C values increase bias and lower variance, leading to underfitting.\n",
    "# note that C and gamma have an inverse relationship\n",
    "# rbf is the radial basis function\n",
    "svmc = svm.SVC(C = 1.0, kernel = 'rbf', gamma = 5e-4, random_state = 0)\n",
    "\n",
    "svmc.fit(features_training_pca, labels_training)\n",
    "svmc_predictions = svmc.predict(features_testing_pca)\n",
    "svmc_acc = accuracy_score(labels_testing, svmc_predictions)\n",
    "svmc_cm = confusion_matrix(labels_testing, svmc_predictions)\n",
    "\n",
    "print(svmc_acc)\n",
    "print(svmc_cm)\n"
   ]
  },
  {
   "cell_type": "code",
   "execution_count": 6,
   "metadata": {},
   "outputs": [
    {
     "name": "stdout",
     "output_type": "stream",
     "text": [
      "Grid Search CV time in minutes: 0.06034146926666668\n"
     ]
    }
   ],
   "source": [
    "\n",
    "# using grid search cv on svm classifier\n",
    "# in this case, looking for the best C parameter\n",
    "# while using k = 40 components from PCA\n",
    "from sklearn.model_selection import GridSearchCV\n",
    "\n",
    "c_values = [ 1e-2, 1e-1, 1, 1e1, 1e2, 1e3, 1e4, 1e5]\n",
    "parameter_grid = dict(C = c_values)\n",
    "\n",
    "svm_classifier = svm.SVC (kernel = 'rbf', gamma = 5e-4, random_state = 0)\n",
    "\n",
    "k2 = 40\n",
    "pca_for_cv = PCA(n_components = k2)\n",
    "features_training_pca_cv = pca_for_cv.fit_transform(pixels_features_scaled)\n",
    "\n",
    "# k = 10 rounds cross validaiton\n",
    "grid_search_cv = GridSearchCV(svm_classifier, parameter_grid, cv = 10, scoring = 'accuracy')\n",
    "\n",
    "start_time = time.perf_counter()\n",
    "grid_search_cv.fit(features_training_pca_cv, pixels_labels)\n",
    "end_time = time.perf_counter()\n",
    "\n",
    "best_parameters = grid_search_cv.best_params_\n",
    "best_score = grid_search_cv.best_score_\n",
    "\n",
    "grid_search_cv_time_minutes = (end_time - start_time) / 60\n",
    "print('Grid Search CV time in minutes: ' + str(grid_search_cv_time_minutes))"
   ]
  },
  {
   "cell_type": "code",
   "execution_count": 7,
   "metadata": {},
   "outputs": [
    {
     "name": "stdout",
     "output_type": "stream",
     "text": [
      "{'C': 10.0}\n",
      "0.9649999999999999\n"
     ]
    }
   ],
   "source": [
    "\n",
    "print(best_parameters)\n",
    "print(best_score)\n"
   ]
  },
  {
   "cell_type": "code",
   "execution_count": 11,
   "metadata": {},
   "outputs": [
    {
     "name": "stdout",
     "output_type": "stream",
     "text": [
      "0.9\n",
      "[[0 0 0 ... 0 0 0]\n",
      " [0 3 0 ... 0 0 0]\n",
      " [0 0 3 ... 0 0 0]\n",
      " ...\n",
      " [0 0 0 ... 3 0 0]\n",
      " [0 0 0 ... 0 4 0]\n",
      " [1 0 0 ... 0 0 1]]\n"
     ]
    }
   ],
   "source": [
    "\n",
    "# testing out the new C value\n",
    "# in this case, it seems the accuracy did not improve much\n",
    "svm_classifier2 = svm.SVC(kernel = 'rbf', gamma = 5e-4, random_state = 0)\n",
    "pca2 = PCA(n_components = k2)\n",
    "\n",
    "features_training_pca2 = pca2.fit_transform(features_training)\n",
    "features_testing_pca2 = pca2.transform(features_testing)\n",
    "\n",
    "svmc2 = svm.SVC( C = 10, kernel = 'rbf', gamma = 5e-4, random_state = 0)\n",
    "\n",
    "svmc2.fit(features_training_pca2, labels_training)\n",
    "svmc_predictions2 = svmc2.predict(features_testing_pca2)\n",
    "svmc_acc2 = accuracy_score(labels_testing, svmc_predictions2)\n",
    "svmc_cm2 = confusion_matrix(labels_testing, svmc_predictions2)\n",
    "\n",
    "print(svmc_acc)\n",
    "print(svmc_cm)\n"
   ]
  },
  {
   "cell_type": "code",
   "execution_count": null,
   "metadata": {},
   "outputs": [],
   "source": []
  }
 ],
 "metadata": {
  "kernelspec": {
   "display_name": "Python 3",
   "language": "python",
   "name": "python3"
  },
  "language_info": {
   "codemirror_mode": {
    "name": "ipython",
    "version": 3
   },
   "file_extension": ".py",
   "mimetype": "text/x-python",
   "name": "python",
   "nbconvert_exporter": "python",
   "pygments_lexer": "ipython3",
   "version": "3.8.5"
  }
 },
 "nbformat": 4,
 "nbformat_minor": 4
}
