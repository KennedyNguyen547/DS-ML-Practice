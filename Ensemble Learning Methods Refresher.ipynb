{
 "cells": [
  {
   "cell_type": "markdown",
   "metadata": {},
   "source": [
    "\n",
    "\n",
    "# This notebook was done as practice using ensemble learning methods to do image classification\n",
    "## The dataset was given from an old advanced machine learning class. There are 1600 8x8 pixel grayscale images with a csv file containing the labels for each image.\n",
    "\n"
   ]
  },
  {
   "cell_type": "code",
   "execution_count": 2,
   "metadata": {},
   "outputs": [],
   "source": [
    "\n",
    "# importing libraries\n",
    "import numpy as np\n",
    "import pandas as pd\n",
    "import cv2 \n",
    "from sklearn.model_selection import train_test_split\n",
    "from sklearn.utils import resample\n",
    "from sklearn.tree import DecisionTreeClassifier\n",
    "from collections import Counter\n",
    "from sklearn.metrics import accuracy_score\n",
    "from sklearn import metrics\n",
    "from sklearn.ensemble import AdaBoostClassifier\n",
    "from xgboost import XGBClassifier\n",
    "from sklearn.ensemble import RandomForestClassifier\n",
    "\n"
   ]
  },
  {
   "cell_type": "code",
   "execution_count": 3,
   "metadata": {},
   "outputs": [],
   "source": [
    "\n",
    "# setting up file paths for the labels and the images for the image data\n",
    "# the dataset was from my data science class for image recognition\n",
    "# they are 8x8 pixels in dimensions.\n",
    "folder_path = r\"C:\\Users\\KennoHead\\Desktop\\Data Science and Machine Learning Refresher\\Digit\\\\\"\n",
    "image_labels_df = pd.read_csv(r'C:\\Users\\KennoHead\\Desktop\\Data Science and Machine Learning Refresher\\Digit\\label.csv')\n",
    "file_names_list = image_labels_df['name of the file']\n",
    "\n"
   ]
  },
  {
   "cell_type": "code",
   "execution_count": 4,
   "metadata": {},
   "outputs": [],
   "source": [
    "\n",
    "# creating the list of feature pixel column names.\n",
    "pixel_columns = []\n",
    "\n",
    "for i in range (1, 65, 1):\n",
    "    pixel_columns.append(str(i))\n",
    "    \n",
    "# creating a list to append to.\n",
    "# using cv2, read each image as a grayscale image\n",
    "# i was taught to process image data using either\n",
    "# matplotlib or pillow libraries\n",
    "# then convert the pixel dimensions into a flat array.\n",
    "# normally we can use flatten, but I use reshape here\n",
    "pixels_matrix = []\n",
    "for file_name in file_names_list:\n",
    "    current_image_pixels = cv2.imread(folder_path + str(file_name) + '.jpg',0)\n",
    "    pixels_matrix.append(current_image_pixels.reshape(64,))\n"
   ]
  },
  {
   "cell_type": "code",
   "execution_count": 5,
   "metadata": {},
   "outputs": [],
   "source": [
    "\n",
    "# combining the pixel data and the labels (with the file names aswell)\n",
    "pixels_df = pd.DataFrame(pixels_matrix, columns = pixel_columns)\n",
    "pixels_df = pd.concat([pixels_df, image_labels_df], axis = 1)\n"
   ]
  },
  {
   "cell_type": "code",
   "execution_count": 6,
   "metadata": {},
   "outputs": [],
   "source": [
    "\n",
    "# train test split\n",
    "pixels_features_list = list(pixels_df.columns)\n",
    "pixels_features_list.remove('name of the file')\n",
    "pixels_features_list.remove('digit label')\n",
    "pixels_features = pixels_df[pixels_features_list]\n",
    "pixels_labels = pixels_df['digit label']\n",
    "X_training, X_testing, Y_training, Y_testing = train_test_split(pixels_features, pixels_labels, test_size = .3, random_state = 0)\n",
    "\n"
   ]
  },
  {
   "cell_type": "code",
   "execution_count": 7,
   "metadata": {},
   "outputs": [],
   "source": [
    "\n",
    "# here we are going to do the bootstrap aggregation method\n",
    "# also known as \"bagging\"\n",
    "# the idea is that we get a subset of the training set\n",
    "# and do resampling with replacement\n",
    "# with each new subset, we train a decision tree \n",
    "\n",
    "bootstrap_size = int(0.8 * len(X_training)) \n",
    "dec_tree_predict_list = []\n",
    "\n",
    "for i in range(0, 30, 1):\n",
    "    X_r_training = resample(X_training, n_samples = bootstrap_size, random_state = i, replace = True)\n",
    "    Y_r_training = resample(Y_training, n_samples = bootstrap_size, random_state = i, replace = True)\n",
    "    base_dec_tree = DecisionTreeClassifier(random_state = 0)\n",
    "    base_dec_tree.fit(X_r_training, Y_r_training) \n",
    "    current_tree_prediction = base_dec_tree.predict(X_testing)\n",
    "    dec_tree_predict_list.append(current_tree_prediction)\n",
    "    \n",
    "result_df = pd.DataFrame(data = dec_tree_predict_list)\n"
   ]
  },
  {
   "cell_type": "code",
   "execution_count": 8,
   "metadata": {},
   "outputs": [],
   "source": [
    "\n",
    "\n",
    "# here we doing polling by majority\n",
    "# to predict each sample's label\n",
    "\n",
    "ensemble_predict = []\n",
    "\n",
    "for current_row in result_df:\n",
    "    current_row_count = Counter (result_df[current_row])\n",
    "    ensemble_predict.append(current_row_count.most_common(1)[0][0])\n",
    "\n",
    "# from this we can see the accuracy score is pretty high\n",
    "# so bootstrap aggregation is an effective approach to classification\n",
    "\n",
    "ensemble_acc = accuracy_score(Y_testing, ensemble_predict)\n"
   ]
  },
  {
   "cell_type": "code",
   "execution_count": 9,
   "metadata": {},
   "outputs": [],
   "source": [
    "\n",
    "# using Adaptive Boost Classifier\n",
    "adaboost_clssr = AdaBoostClassifier(n_estimators = 30, random_state = 0)\n",
    "adaboost_clssr.fit(X_training, Y_training)\n",
    "adaboost_predictions = adaboost_clssr.predict(X_testing)\n",
    "adaboost_acc = accuracy_score(Y_testing, adaboost_predictions)\n",
    "\n"
   ]
  },
  {
   "cell_type": "code",
   "execution_count": 10,
   "metadata": {},
   "outputs": [],
   "source": [
    "\n",
    "# using the Extreme Gradient Boost Classifier\n",
    "xgb_clssr = XGBClassifier(n_estimators= 30, random_state = 0, use_label_encoder = False)\n",
    "xgb_clssr.fit (X_training, Y_training, eval_metric = 'logloss')\n",
    "xgb_predictions = xgb_clssr.predict (X_testing)\n",
    "xgb_acc = accuracy_score(Y_testing, xgb_predictions)\n",
    "\n"
   ]
  },
  {
   "cell_type": "code",
   "execution_count": 11,
   "metadata": {},
   "outputs": [],
   "source": [
    "\n",
    "# using the Random Forest Classifier\n",
    "rfc = RandomForestClassifier(n_estimators = 30, bootstrap = True, random_state = 0)\n",
    "rfc.fit(X_training, Y_training) \n",
    "rfc_predictions = rfc.predict(X_testing)\n",
    "rfc_acc = accuracy_score(Y_testing, rfc_predictions)\n"
   ]
  },
  {
   "cell_type": "code",
   "execution_count": 12,
   "metadata": {},
   "outputs": [
    {
     "name": "stdout",
     "output_type": "stream",
     "text": [
      "0.9277777777777778\n",
      "0.2037037037037037\n",
      "0.9333333333333333\n",
      "0.9574074074074074\n"
     ]
    }
   ],
   "source": [
    "\n",
    "print(ensemble_acc) \n",
    "print(adaboost_acc)\n",
    "print(xgb_acc) \n",
    "print(rfc_acc) \n"
   ]
  },
  {
   "cell_type": "code",
   "execution_count": null,
   "metadata": {},
   "outputs": [],
   "source": []
  }
 ],
 "metadata": {
  "kernelspec": {
   "display_name": "Python 3",
   "language": "python",
   "name": "python3"
  },
  "language_info": {
   "codemirror_mode": {
    "name": "ipython",
    "version": 3
   },
   "file_extension": ".py",
   "mimetype": "text/x-python",
   "name": "python",
   "nbconvert_exporter": "python",
   "pygments_lexer": "ipython3",
   "version": "3.8.5"
  }
 },
 "nbformat": 4,
 "nbformat_minor": 4
}
